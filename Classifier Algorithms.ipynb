{
 "cells": [
  {
   "cell_type": "markdown",
   "metadata": {},
   "source": [
    "## Import Libraries and final CSV file"
   ]
  },
  {
   "cell_type": "code",
   "execution_count": 20,
   "metadata": {},
   "outputs": [
    {
     "name": "stdout",
     "output_type": "stream",
     "text": [
      "Age                         int64\n",
      "Attrition                   int64\n",
      "BusinessTravel              int64\n",
      "Department                  int64\n",
      "DistanceFromHome            int64\n",
      "Education                   int64\n",
      "EducationField              int64\n",
      "EnvironmentSatisfaction     int64\n",
      "Gender                      int64\n",
      "HourlyRate                  int64\n",
      "JobInvolvement              int64\n",
      "JobLevel                    int64\n",
      "JobRole                     int64\n",
      "JobSatisfaction             int64\n",
      "MaritalStatus               int64\n",
      "MonthlyIncome               int64\n",
      "MonthlyRate                 int64\n",
      "NumCompaniesWorked          int64\n",
      "OverTime                    int64\n",
      "PercentSalaryHike           int64\n",
      "PerformanceRating           int64\n",
      "RelationshipSatisfaction    int64\n",
      "StockOptionLevel            int64\n",
      "TotalWorkingYears           int64\n",
      "TrainingTimesLastYear       int64\n",
      "WorkLifeBalance             int64\n",
      "YearsAtCompany              int64\n",
      "YearsInCurrentRole          int64\n",
      "YearsSinceLastPromotion     int64\n",
      "YearsWithCurrManager        int64\n",
      "dtype: object\n",
      "\n",
      " (1470, 30)\n"
     ]
    },
    {
     "data": {
      "text/html": [
       "<div>\n",
       "<style scoped>\n",
       "    .dataframe tbody tr th:only-of-type {\n",
       "        vertical-align: middle;\n",
       "    }\n",
       "\n",
       "    .dataframe tbody tr th {\n",
       "        vertical-align: top;\n",
       "    }\n",
       "\n",
       "    .dataframe thead th {\n",
       "        text-align: right;\n",
       "    }\n",
       "</style>\n",
       "<table border=\"1\" class=\"dataframe\">\n",
       "  <thead>\n",
       "    <tr style=\"text-align: right;\">\n",
       "      <th></th>\n",
       "      <th>Age</th>\n",
       "      <th>Attrition</th>\n",
       "      <th>BusinessTravel</th>\n",
       "      <th>Department</th>\n",
       "      <th>DistanceFromHome</th>\n",
       "      <th>Education</th>\n",
       "      <th>EducationField</th>\n",
       "      <th>EnvironmentSatisfaction</th>\n",
       "      <th>Gender</th>\n",
       "      <th>HourlyRate</th>\n",
       "      <th>...</th>\n",
       "      <th>PerformanceRating</th>\n",
       "      <th>RelationshipSatisfaction</th>\n",
       "      <th>StockOptionLevel</th>\n",
       "      <th>TotalWorkingYears</th>\n",
       "      <th>TrainingTimesLastYear</th>\n",
       "      <th>WorkLifeBalance</th>\n",
       "      <th>YearsAtCompany</th>\n",
       "      <th>YearsInCurrentRole</th>\n",
       "      <th>YearsSinceLastPromotion</th>\n",
       "      <th>YearsWithCurrManager</th>\n",
       "    </tr>\n",
       "  </thead>\n",
       "  <tbody>\n",
       "    <tr>\n",
       "      <td>0</td>\n",
       "      <td>41</td>\n",
       "      <td>1</td>\n",
       "      <td>2</td>\n",
       "      <td>2</td>\n",
       "      <td>1</td>\n",
       "      <td>2</td>\n",
       "      <td>1</td>\n",
       "      <td>2</td>\n",
       "      <td>0</td>\n",
       "      <td>94</td>\n",
       "      <td>...</td>\n",
       "      <td>3</td>\n",
       "      <td>1</td>\n",
       "      <td>0</td>\n",
       "      <td>8</td>\n",
       "      <td>0</td>\n",
       "      <td>1</td>\n",
       "      <td>6</td>\n",
       "      <td>4</td>\n",
       "      <td>0</td>\n",
       "      <td>5</td>\n",
       "    </tr>\n",
       "    <tr>\n",
       "      <td>1</td>\n",
       "      <td>49</td>\n",
       "      <td>0</td>\n",
       "      <td>1</td>\n",
       "      <td>1</td>\n",
       "      <td>8</td>\n",
       "      <td>1</td>\n",
       "      <td>1</td>\n",
       "      <td>3</td>\n",
       "      <td>0</td>\n",
       "      <td>61</td>\n",
       "      <td>...</td>\n",
       "      <td>4</td>\n",
       "      <td>4</td>\n",
       "      <td>1</td>\n",
       "      <td>10</td>\n",
       "      <td>3</td>\n",
       "      <td>3</td>\n",
       "      <td>10</td>\n",
       "      <td>7</td>\n",
       "      <td>1</td>\n",
       "      <td>7</td>\n",
       "    </tr>\n",
       "    <tr>\n",
       "      <td>2</td>\n",
       "      <td>37</td>\n",
       "      <td>1</td>\n",
       "      <td>2</td>\n",
       "      <td>1</td>\n",
       "      <td>2</td>\n",
       "      <td>2</td>\n",
       "      <td>5</td>\n",
       "      <td>4</td>\n",
       "      <td>0</td>\n",
       "      <td>92</td>\n",
       "      <td>...</td>\n",
       "      <td>3</td>\n",
       "      <td>2</td>\n",
       "      <td>0</td>\n",
       "      <td>7</td>\n",
       "      <td>3</td>\n",
       "      <td>3</td>\n",
       "      <td>0</td>\n",
       "      <td>0</td>\n",
       "      <td>0</td>\n",
       "      <td>0</td>\n",
       "    </tr>\n",
       "    <tr>\n",
       "      <td>3</td>\n",
       "      <td>33</td>\n",
       "      <td>0</td>\n",
       "      <td>1</td>\n",
       "      <td>1</td>\n",
       "      <td>3</td>\n",
       "      <td>4</td>\n",
       "      <td>1</td>\n",
       "      <td>4</td>\n",
       "      <td>0</td>\n",
       "      <td>56</td>\n",
       "      <td>...</td>\n",
       "      <td>3</td>\n",
       "      <td>3</td>\n",
       "      <td>0</td>\n",
       "      <td>8</td>\n",
       "      <td>3</td>\n",
       "      <td>3</td>\n",
       "      <td>8</td>\n",
       "      <td>7</td>\n",
       "      <td>3</td>\n",
       "      <td>0</td>\n",
       "    </tr>\n",
       "    <tr>\n",
       "      <td>4</td>\n",
       "      <td>27</td>\n",
       "      <td>0</td>\n",
       "      <td>2</td>\n",
       "      <td>1</td>\n",
       "      <td>2</td>\n",
       "      <td>1</td>\n",
       "      <td>3</td>\n",
       "      <td>1</td>\n",
       "      <td>0</td>\n",
       "      <td>40</td>\n",
       "      <td>...</td>\n",
       "      <td>3</td>\n",
       "      <td>4</td>\n",
       "      <td>1</td>\n",
       "      <td>6</td>\n",
       "      <td>3</td>\n",
       "      <td>3</td>\n",
       "      <td>2</td>\n",
       "      <td>2</td>\n",
       "      <td>2</td>\n",
       "      <td>2</td>\n",
       "    </tr>\n",
       "  </tbody>\n",
       "</table>\n",
       "<p>5 rows × 30 columns</p>\n",
       "</div>"
      ],
      "text/plain": [
       "   Age  Attrition  BusinessTravel  Department  DistanceFromHome  Education  \\\n",
       "0   41          1               2           2                 1          2   \n",
       "1   49          0               1           1                 8          1   \n",
       "2   37          1               2           1                 2          2   \n",
       "3   33          0               1           1                 3          4   \n",
       "4   27          0               2           1                 2          1   \n",
       "\n",
       "   EducationField  EnvironmentSatisfaction  Gender  HourlyRate  ...  \\\n",
       "0               1                        2       0          94  ...   \n",
       "1               1                        3       0          61  ...   \n",
       "2               5                        4       0          92  ...   \n",
       "3               1                        4       0          56  ...   \n",
       "4               3                        1       0          40  ...   \n",
       "\n",
       "   PerformanceRating  RelationshipSatisfaction  StockOptionLevel  \\\n",
       "0                  3                         1                 0   \n",
       "1                  4                         4                 1   \n",
       "2                  3                         2                 0   \n",
       "3                  3                         3                 0   \n",
       "4                  3                         4                 1   \n",
       "\n",
       "   TotalWorkingYears  TrainingTimesLastYear  WorkLifeBalance  YearsAtCompany  \\\n",
       "0                  8                      0                1               6   \n",
       "1                 10                      3                3              10   \n",
       "2                  7                      3                3               0   \n",
       "3                  8                      3                3               8   \n",
       "4                  6                      3                3               2   \n",
       "\n",
       "   YearsInCurrentRole  YearsSinceLastPromotion  YearsWithCurrManager  \n",
       "0                   4                        0                     5  \n",
       "1                   7                        1                     7  \n",
       "2                   0                        0                     0  \n",
       "3                   7                        3                     0  \n",
       "4                   2                        2                     2  \n",
       "\n",
       "[5 rows x 30 columns]"
      ]
     },
     "execution_count": 20,
     "metadata": {},
     "output_type": "execute_result"
    }
   ],
   "source": [
    "import pandas as pd\n",
    "import matplotlib as plt\n",
    "import numpy as np\n",
    "import time\n",
    "from sklearn.metrics import classification_report, confusion_matrix, accuracy_score\n",
    "from sklearn.model_selection import cross_val_score, GridSearchCV, cross_val_predict\n",
    "from sklearn.tree import DecisionTreeClassifier, plot_tree\n",
    "from sklearn.model_selection import train_test_split\n",
    "from sklearn.ensemble import RandomForestClassifier\n",
    "from sklearn.datasets import make_classification\n",
    "from sklearn.metrics import mean_squared_error\n",
    "from sklearn.preprocessing import MinMaxScaler\n",
    "from sklearn.neighbors import KNeighborsClassifier\n",
    "from sklearn.decomposition import PCA\n",
    "from sklearn.pipeline import Pipeline\n",
    "\n",
    "#import data \n",
    "data = pd.read_csv(\"employee_final.csv\")\n",
    "\n",
    "# Check data type\n",
    "print (data.dtypes)\n",
    "\n",
    "#display data\n",
    "print('\\n',data.shape)\n",
    "data.head()"
   ]
  },
  {
   "cell_type": "markdown",
   "metadata": {},
   "source": [
    "## Random Forest Classifier"
   ]
  },
  {
   "cell_type": "code",
   "execution_count": 15,
   "metadata": {},
   "outputs": [
    {
     "name": "stdout",
     "output_type": "stream",
     "text": [
      "\n",
      " 10 most important features:\n",
      " Age                   0.095620\n",
      "OverTime              0.080204\n",
      "TotalWorkingYears     0.074995\n",
      "MonthlyIncome         0.066279\n",
      "DistanceFromHome      0.054946\n",
      "HourlyRate            0.054791\n",
      "NumCompaniesWorked    0.052368\n",
      "YearsAtCompany        0.046083\n",
      "MonthlyRate           0.045825\n",
      "StockOptionLevel      0.040250\n",
      "dtype: float64\n"
     ]
    },
    {
     "name": "stderr",
     "output_type": "stream",
     "text": [
      "C:\\Users\\maniv\\Anaconda3\\lib\\site-packages\\sklearn\\model_selection\\_search.py:814: DeprecationWarning: The default of the `iid` parameter will change from True to False in version 0.22 and will be removed in 0.24. This will change numeric results when test-set sizes are unequal.\n",
      "  DeprecationWarning)\n"
     ]
    },
    {
     "name": "stdout",
     "output_type": "stream",
     "text": [
      "Accuracy of classifier:  0.8299319727891157\n",
      "\n",
      " Best value for each of the tested parameters: {'criterion': 'entropy', 'max_depth': 7, 'max_features': 'auto', 'n_estimators': 200}\n",
      "\n",
      " and accuracy of the model with these best values is 0.826530612244898\n"
     ]
    }
   ],
   "source": [
    "# Split dataset into training and test sets\n",
    "y = data['Attrition']\n",
    "X = data.drop(columns=['Attrition'])\n",
    "X_train, X_test, y_train, y_test = train_test_split(X, y, test_size=0.8, random_state=42)\n",
    "\n",
    "# Fit Random Forest classifier on training set\n",
    "random_forest = RandomForestClassifier(n_estimators=200, max_depth=5, max_features= 4, random_state=42)\n",
    "\n",
    "# Print top 10 Features\n",
    "random_forest1 = random_forest.fit(X_train,y_train)\n",
    "top10_features = pd.Series(random_forest1.feature_importances_, index=X.columns).nlargest(10)\n",
    "print('\\n 10 most important features:\\n',top10_features)\n",
    "\n",
    "# Add Grid\n",
    "param_grid = {'n_estimators': [200],'max_features': ['auto', 'sqrt', 'log2'], 'max_depth' : [4,5,6,7,8],'criterion' :['gini', 'entropy']}\n",
    "new_tune = GridSearchCV(estimator=random_forest, param_grid=param_grid, cv= 5)\n",
    "new_tune.fit(X_train,y_train)\n",
    "c_score3 = cross_val_score(new_tune, X_train, y_train, cv=2)\n",
    "print('Accuracy of classifier: ', c_score3.mean())\n",
    "\n",
    "print('\\n Best value for each of the tested parameters:',new_tune.best_params_)\n",
    "print('\\n and accuracy of the model with these best values is',new_tune.best_score_)"
   ]
  },
  {
   "cell_type": "markdown",
   "metadata": {},
   "source": [
    "#### Once we obtain the best parameters, we pass these values to the classifier, and fit it to our training data. Then we compare the accuracy with our testing data"
   ]
  },
  {
   "cell_type": "code",
   "execution_count": 16,
   "metadata": {},
   "outputs": [
    {
     "name": "stdout",
     "output_type": "stream",
     "text": [
      "Accuracy for Random Forest on CV data:  0.8622448979591837\n"
     ]
    }
   ],
   "source": [
    "rfc1=RandomForestClassifier(random_state=42, criterion = 'entropy', max_depth = 7, max_features = 'auto', n_estimators = 200)\n",
    "rfc1.fit(X_train, y_train)\n",
    "pred=rfc1.predict(X_test)\n",
    "print(\"Accuracy for Random Forest on CV data: \",accuracy_score(y_test,pred))"
   ]
  },
  {
   "cell_type": "code",
   "execution_count": 17,
   "metadata": {},
   "outputs": [
    {
     "name": "stdout",
     "output_type": "stream",
     "text": [
      "\n",
      " Confusion Matrix \n",
      " [[991   6]\n",
      " [156  23]]\n",
      "\n",
      " Classification report \n",
      "               precision    recall  f1-score   support\n",
      "\n",
      "           0       0.86      0.99      0.92       997\n",
      "           1       0.79      0.13      0.22       179\n",
      "\n",
      "    accuracy                           0.86      1176\n",
      "   macro avg       0.83      0.56      0.57      1176\n",
      "weighted avg       0.85      0.86      0.82      1176\n",
      "\n"
     ]
    }
   ],
   "source": [
    "# Finally we print the confusion matrix and classification report for analysis\n",
    "\n",
    "# Print confusion matrix \n",
    "print('\\n Confusion Matrix \\n',confusion_matrix(y_test,pred))\n",
    "\n",
    "# Print classification report\n",
    "print('\\n Classification report \\n',classification_report(y_test,pred))"
   ]
  },
  {
   "cell_type": "markdown",
   "metadata": {},
   "source": [
    "# KNN Classifier"
   ]
  },
  {
   "cell_type": "code",
   "execution_count": 23,
   "metadata": {},
   "outputs": [
    {
     "name": "stdout",
     "output_type": "stream",
     "text": [
      "best_score 0.8537414965986394\n",
      "best_params {'knn__n_neighbors': 13, 'pca__n_components': 4}\n",
      "[CV]  ................................................................\n"
     ]
    },
    {
     "name": "stderr",
     "output_type": "stream",
     "text": [
      "[Parallel(n_jobs=1)]: Using backend SequentialBackend with 1 concurrent workers.\n"
     ]
    },
    {
     "name": "stdout",
     "output_type": "stream",
     "text": [
      "[CV] ................................................. , total=  42.9s\n",
      "[CV]  ................................................................\n"
     ]
    },
    {
     "name": "stderr",
     "output_type": "stream",
     "text": [
      "[Parallel(n_jobs=1)]: Done   1 out of   1 | elapsed:   42.8s remaining:    0.0s\n"
     ]
    },
    {
     "name": "stdout",
     "output_type": "stream",
     "text": [
      "[CV] ................................................. , total=  49.5s\n",
      "[CV]  ................................................................\n",
      "[CV] ................................................. , total=  43.1s\n",
      "Accuracy: 85.10204081632652\n"
     ]
    },
    {
     "name": "stderr",
     "output_type": "stream",
     "text": [
      "[Parallel(n_jobs=1)]: Done   3 out of   3 | elapsed:  2.3min finished\n"
     ]
    }
   ],
   "source": [
    "# define a pipeline to search for best combination of PCA dimensions and n_neighbors\n",
    "scaler = MinMaxScaler()\n",
    "pca = PCA()\n",
    "knn = KNeighborsClassifier()\n",
    "\n",
    "# create a pipeline\n",
    "pipe = Pipeline(steps=[('scaler', scaler), ('pca', pca), ('knn', knn)])\n",
    "\n",
    "# set up parameters to tune for each step in pipeline\n",
    "param_grid = {\n",
    "    'pca__n_components': list(range(1, 19)), # find how many principal componenet to keep\n",
    "    'knn__n_neighbors': list(range(1, 30)),  # find the best value of k\n",
    "}\n",
    "\n",
    "# pass pipeline into gridsearchcv\n",
    "grid_pipe = GridSearchCV(pipe,param_grid,cv=5)\n",
    "\n",
    "# call fit on grid_pipe and pass in unscaled data\n",
    "grid_pipe = grid_pipe.fit(X,y)\n",
    "\n",
    "# print out the best_score_ and best_params_ from the GridSearchCV\n",
    "print(\"best_score\",grid_pipe.best_score_)\n",
    "print(\"best_params\",grid_pipe.best_params_)\n",
    "\n",
    "# display accuracy on model\n",
    "scores = cross_val_score(grid_pipe,X,y,cv=3,verbose=2)\n",
    "print(\"Accuracy:\", scores.mean()*100)"
   ]
  },
  {
   "cell_type": "code",
   "execution_count": 31,
   "metadata": {},
   "outputs": [
    {
     "name": "stdout",
     "output_type": "stream",
     "text": [
      "Confusion matrix:\n",
      " [[1194   39]\n",
      " [ 217   20]]\n",
      "Classification Report:\n",
      "               precision    recall  f1-score   support\n",
      "\n",
      "           0       0.85      0.97      0.90      1233\n",
      "           1       0.34      0.08      0.14       237\n",
      "\n",
      "    accuracy                           0.83      1470\n",
      "   macro avg       0.59      0.53      0.52      1470\n",
      "weighted avg       0.76      0.83      0.78      1470\n",
      "\n"
     ]
    }
   ],
   "source": [
    "knn = KNeighborsClassifier()\n",
    "y_pred = cross_val_predict(knn,X,y,cv=3)\n",
    "print(\"Confusion matrix:\\n\",confusion_matrix(y,y_pred))\n",
    "print(\"Classification Report:\\n\",classification_report(y,y_pred))"
   ]
  },
  {
   "cell_type": "markdown",
   "metadata": {},
   "source": [
    "# Decision Tree Classifier"
   ]
  },
  {
   "cell_type": "code",
   "execution_count": 32,
   "metadata": {},
   "outputs": [
    {
     "name": "stdout",
     "output_type": "stream",
     "text": [
      "Accuracy of classifier:  0.7489737274220032\n",
      "\n",
      " Best value for each of the tested parameters: {'max_depth': 5, 'max_features': 5, 'min_samples_leaf': 5}\n",
      "\n",
      " and accuracy of the model with these best values is 0.8231292517006803\n"
     ]
    },
    {
     "name": "stderr",
     "output_type": "stream",
     "text": [
      "C:\\Users\\maniv\\Anaconda3\\lib\\site-packages\\sklearn\\model_selection\\_search.py:814: DeprecationWarning: The default of the `iid` parameter will change from True to False in version 0.22 and will be removed in 0.24. This will change numeric results when test-set sizes are unequal.\n",
      "  DeprecationWarning)\n"
     ]
    }
   ],
   "source": [
    "# Fit a decision tree classifier on the training set\n",
    "decision_tree = DecisionTreeClassifier(random_state=0)\n",
    "\n",
    "# Add Grid\n",
    "new_grid = {'max_depth':[5,10,15,20], 'min_samples_leaf':[5,10,15,20], 'max_features':[5,10,15]}\n",
    "new_tune2 = GridSearchCV(estimator = decision_tree, param_grid = new_grid, cv = 5)\n",
    "new_tune2.fit(X_train,y_train)\n",
    "\n",
    "# Run Cross Validation loop and print accuracy\n",
    "c_score = cross_val_score(decision_tree, X_train, y_train, cv=10)\n",
    "print('Accuracy of classifier: ', c_score.mean())\n",
    "\n",
    "print('\\n Best value for each of the tested parameters:',new_tune2.best_params_)\n",
    "print('\\n and accuracy of the model with these best values is',new_tune2.best_score_)"
   ]
  },
  {
   "cell_type": "code",
   "execution_count": 35,
   "metadata": {},
   "outputs": [
    {
     "name": "stdout",
     "output_type": "stream",
     "text": [
      "Accuracy for Decision Trees on CV data:  0.8061224489795918\n"
     ]
    }
   ],
   "source": [
    "# Once we obtain the best parameters, we pass these values to the classifier, and fit it to our training data. \n",
    "# Then we compare the accuracy with our testing data\n",
    "\n",
    "dt = DecisionTreeClassifier(min_samples_leaf = 5, max_depth = 5, max_features = 5)\n",
    "dt.fit(X_train, y_train)\n",
    "pred1 = dt.predict(X_test)\n",
    "print(\"Accuracy for Decision Trees on CV data: \",accuracy_score(y_test,pred1))"
   ]
  },
  {
   "cell_type": "code",
   "execution_count": 37,
   "metadata": {},
   "outputs": [
    {
     "name": "stdout",
     "output_type": "stream",
     "text": [
      "\n",
      " Confusion Matrix \n",
      " [[889 108]\n",
      " [120  59]]\n",
      "\n",
      " Classification report \n",
      "               precision    recall  f1-score   support\n",
      "\n",
      "           0       0.88      0.89      0.89       997\n",
      "           1       0.35      0.33      0.34       179\n",
      "\n",
      "    accuracy                           0.81      1176\n",
      "   macro avg       0.62      0.61      0.61      1176\n",
      "weighted avg       0.80      0.81      0.80      1176\n",
      "\n"
     ]
    }
   ],
   "source": [
    "# Print confusion matrix \n",
    "print('\\n Confusion Matrix \\n',confusion_matrix(y_test,pred1))\n",
    "\n",
    "# Print classification report\n",
    "print('\\n Classification report \\n',classification_report(y_test,pred1))"
   ]
  },
  {
   "cell_type": "code",
   "execution_count": null,
   "metadata": {},
   "outputs": [],
   "source": []
  }
 ],
 "metadata": {
  "kernelspec": {
   "display_name": "Python 3",
   "language": "python",
   "name": "python3"
  },
  "language_info": {
   "codemirror_mode": {
    "name": "ipython",
    "version": 3
   },
   "file_extension": ".py",
   "mimetype": "text/x-python",
   "name": "python",
   "nbconvert_exporter": "python",
   "pygments_lexer": "ipython3",
   "version": "3.7.4"
  }
 },
 "nbformat": 4,
 "nbformat_minor": 4
}
